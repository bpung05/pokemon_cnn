{
 "cells": [
  {
   "cell_type": "code",
   "execution_count": 26,
   "id": "292e60c2-24e3-4bd5-abcd-9b4f1eab7e63",
   "metadata": {},
   "outputs": [],
   "source": [
    "import os\n",
    "import pandas as pd\n",
    "import torch\n",
    "import torch.nn as nn\n",
    "import torch.optim as optim\n",
    "from torch.utils.data import Dataset, DataLoader\n",
    "from torchvision import transforms, models\n",
    "from PIL import Image\n",
    "from sklearn.model_selection import train_test_split\n",
    "import matplotlib.pyplot as plt\n",
    "from tqdm import tqdm  # For progress bars\n",
    "import numpy as np\n",
    "import torch.nn.functional as F  # Import torch.nn.functional and alias it as F\n",
    "import cv2 #Import cv2 for image resizing\n",
    "import random\n",
    "from torchvision import transforms\n",
    "from PIL import ImageEnhance"
   ]
  },
  {
   "cell_type": "markdown",
   "id": "222c12c1-fc9f-496f-b278-cec22eee3862",
   "metadata": {},
   "source": [
    "# Data Loading and Preprocessing\n"
   ]
  },
  {
   "cell_type": "code",
   "execution_count": 27,
   "id": "b6b6e2ae-a614-4dca-b7b5-ba5d7cc06980",
   "metadata": {},
   "outputs": [],
   "source": [
    "# Define paths\n",
    "data_dir = \"./\"  # Use raw string or escape backslashes\n",
    "csv_path = os.path.join(data_dir, \"pokemon.csv\")\n",
    "image_dir = os.path.join(data_dir, \"images\")"
   ]
  },
  {
   "cell_type": "code",
   "execution_count": 28,
   "id": "5e988a2d-1ee3-410b-955d-bfaba06b2321",
   "metadata": {},
   "outputs": [],
   "source": [
    "device = torch.device(\"cuda\") # Force CPU usage"
   ]
  },
  {
   "cell_type": "code",
   "execution_count": 29,
   "id": "89bc4e40-02ee-4fa9-8160-8d9752502ad0",
   "metadata": {},
   "outputs": [],
   "source": [
    "# Load the CSV\n",
    "df = pd.read_csv(csv_path)\n",
    "\n",
    "# Remove rows with missing 'Type1' values (if any)\n",
    "df = df.dropna(subset=['Type1'])\n",
    "df = df[df.Type1.isin(['Water','Grass','Fire'])][['Name','Type1']]"
   ]
  },
  {
   "cell_type": "code",
   "execution_count": 30,
   "id": "f1e90ace-facf-4813-9f33-adf6ee5022e6",
   "metadata": {},
   "outputs": [],
   "source": [
    "# Create a mapping from Pokemon name to image path using Pandas\n",
    "df['image_path'] = df['Name'].apply(lambda name: os.path.join(image_dir, f\"{name}.png\"))\n",
    "\n",
    "# Filter out rows where the image file doesn't exist using Pandas\n",
    "df['image_exists'] = df['image_path'].apply(os.path.exists)\n",
    "df = df[df['image_exists']]\n",
    "df = df.drop('image_exists', axis=1)  # Remove the temporary column"
   ]
  },
  {
   "cell_type": "code",
   "execution_count": 31,
   "id": "07f9d987-79b2-40c8-8290-6ebb4cd0e4e7",
   "metadata": {
    "scrolled": true
   },
   "outputs": [
    {
     "data": {
      "text/html": [
       "<div>\n",
       "<style scoped>\n",
       "    .dataframe tbody tr th:only-of-type {\n",
       "        vertical-align: middle;\n",
       "    }\n",
       "\n",
       "    .dataframe tbody tr th {\n",
       "        vertical-align: top;\n",
       "    }\n",
       "\n",
       "    .dataframe thead th {\n",
       "        text-align: right;\n",
       "    }\n",
       "</style>\n",
       "<table border=\"1\" class=\"dataframe\">\n",
       "  <thead>\n",
       "    <tr style=\"text-align: right;\">\n",
       "      <th></th>\n",
       "      <th>Name</th>\n",
       "      <th>Type1</th>\n",
       "      <th>image_path</th>\n",
       "    </tr>\n",
       "  </thead>\n",
       "  <tbody>\n",
       "    <tr>\n",
       "      <th>0</th>\n",
       "      <td>bulbasaur</td>\n",
       "      <td>Grass</td>\n",
       "      <td>./images\\bulbasaur.png</td>\n",
       "    </tr>\n",
       "    <tr>\n",
       "      <th>1</th>\n",
       "      <td>ivysaur</td>\n",
       "      <td>Grass</td>\n",
       "      <td>./images\\ivysaur.png</td>\n",
       "    </tr>\n",
       "    <tr>\n",
       "      <th>3</th>\n",
       "      <td>charmander</td>\n",
       "      <td>Fire</td>\n",
       "      <td>./images\\charmander.png</td>\n",
       "    </tr>\n",
       "    <tr>\n",
       "      <th>4</th>\n",
       "      <td>charmeleon</td>\n",
       "      <td>Fire</td>\n",
       "      <td>./images\\charmeleon.png</td>\n",
       "    </tr>\n",
       "    <tr>\n",
       "      <th>5</th>\n",
       "      <td>charizard</td>\n",
       "      <td>Fire</td>\n",
       "      <td>./images\\charizard.png</td>\n",
       "    </tr>\n",
       "  </tbody>\n",
       "</table>\n",
       "</div>"
      ],
      "text/plain": [
       "         Name  Type1               image_path\n",
       "0   bulbasaur  Grass   ./images\\bulbasaur.png\n",
       "1     ivysaur  Grass     ./images\\ivysaur.png\n",
       "3  charmander   Fire  ./images\\charmander.png\n",
       "4  charmeleon   Fire  ./images\\charmeleon.png\n",
       "5   charizard   Fire   ./images\\charizard.png"
      ]
     },
     "execution_count": 31,
     "metadata": {},
     "output_type": "execute_result"
    }
   ],
   "source": [
    "df.head()"
   ]
  },
  {
   "cell_type": "code",
   "execution_count": 32,
   "id": "b051d666-3296-436e-b744-e8ff67b115b1",
   "metadata": {},
   "outputs": [],
   "source": [
    "# Prepare data for the dataset - now directly using DataFrame columns\n",
    "data = df[['image_path', 'Type1']].rename(columns={'Type1': 'type1'}).to_dict('records') #Create list of dictionaries\n",
    "\n",
    "#Create train, validation, and test splits using DataFrames\n",
    "train_df, test_df = train_test_split(df, test_size=0.2, random_state=42, stratify=df['Type1'])\n",
    "val_df, test_df = train_test_split(test_df, test_size=0.5, random_state=42, stratify=test_df['Type1'])\n"
   ]
  },
  {
   "cell_type": "code",
   "execution_count": 33,
   "id": "ebdae291-f700-4a36-a192-f9d97f69fc79",
   "metadata": {},
   "outputs": [],
   "source": [
    "\n",
    "# Convert DataFrames to lists of dictionaries for the Dataset\n",
    "train_data = train_df[['image_path', 'Type1']].rename(columns={'Type1': 'type1'}).to_dict('records')\n",
    "val_data = val_df[['image_path', 'Type1']].rename(columns={'Type1': 'type1'}).to_dict('records')\n",
    "test_data = test_df[['image_path', 'Type1']].rename(columns={'Type1': 'type1'}).to_dict('records')\n"
   ]
  },
  {
   "cell_type": "code",
   "execution_count": 34,
   "id": "42112c75-a94d-4786-bcfb-9a638cc53bcc",
   "metadata": {},
   "outputs": [],
   "source": [
    "\n",
    "class RandomColorAugment:\n",
    "    def __init__(self, brightness=0.4, contrast=0.4, saturation=0.4, hue=0.2):\n",
    "        self.brightness = brightness\n",
    "        self.contrast = contrast\n",
    "        self.saturation = saturation\n",
    "        self.hue = hue\n",
    "\n",
    "    def __call__(self, img):\n",
    "        if random.random() > 0.5:\n",
    "            # Convert to PIL image if it's not already\n",
    "            if not isinstance(img, Image.Image):\n",
    "                img = transforms.ToPILImage()(img)\n",
    "            \n",
    "            # Apply random color transformations\n",
    "            if random.random() > 0.5:\n",
    "                factor = random.uniform(1-self.brightness, 1+self.brightness)\n",
    "                img = ImageEnhance.Brightness(img).enhance(factor)\n",
    "            if random.random() > 0.5:\n",
    "                factor = random.uniform(1-self.contrast, 1+self.contrast)\n",
    "                img = ImageEnhance.Contrast(img).enhance(factor)\n",
    "            if random.random() > 0.5:\n",
    "                factor = random.uniform(1-self.saturation, 1+self.saturation)\n",
    "                img = ImageEnhance.Color(img).enhance(factor)\n",
    "        return img\n"
   ]
  },
  {
   "cell_type": "code",
   "execution_count": 35,
   "id": "71754128-74a4-412d-af73-05aaedb72b17",
   "metadata": {},
   "outputs": [],
   "source": [
    "image_size = 224  # Standard size for VGG19\n",
    "data_transforms = {\n",
    "    'train': transforms.Compose([\n",
    "        transforms.Resize((image_size, image_size)),\n",
    "        \n",
    "        # More aggressive geometric transformations\n",
    "        transforms.RandomHorizontalFlip(p=0.5),      # 50% chance to flip horizontally\n",
    "        transforms.RandomVerticalFlip(p=0.3),        # 30% chance to flip vertically\n",
    "        transforms.RandomRotation(degrees=180),       # Random rotation up to 180 degrees (more rotation!)\n",
    "        \n",
    "        # More aggressive affine transformations\n",
    "        transforms.RandomAffine(\n",
    "            degrees=45,                              # Increased rotation in affine transform\n",
    "            translate=(0.2, 0.2),                    # Increased translation up to 20%\n",
    "            scale=(0.8, 1.2),                        # More aggressive scaling\n",
    "            shear=20                                 # Increased shearing\n",
    "        ),\n",
    "        \n",
    "        # Perspective transformation\n",
    "        transforms.RandomPerspective(distortion_scale=0.5, p=0.5),\n",
    "        RandomColorAugment(\n",
    "            brightness=0.4,\n",
    "            contrast=0.4,\n",
    "            saturation=0.4,\n",
    "            hue=0.2\n",
    "        ),\n",
    "        # Color transformations\n",
    "        transforms.RandomGrayscale(p=0.2),           # 20% chance to convert to grayscale\n",
    "        transforms.ColorJitter(\n",
    "            brightness=0.5,                          # Increased color jittering\n",
    "            contrast=0.5,\n",
    "            saturation=0.5,\n",
    "            hue=0.3\n",
    "        ),\n",
    "        \n",
    "        # Random cropping with resize\n",
    "        transforms.RandomResizedCrop(\n",
    "            image_size,\n",
    "            scale=(0.7, 1.0),                       # Crop between 70-100% of original size\n",
    "            ratio=(3./4., 4./3.)                    # Aspect ratio constraints\n",
    "        ),\n",
    "        \n",
    "        transforms.ToTensor(),\n",
    "        \n",
    "        # Random erasing (like cutout)\n",
    "        transforms.RandomErasing(p=0.3, scale=(0.02, 0.33), ratio=(0.3, 3.3), value='random'),\n",
    "        \n",
    "        transforms.Normalize([0.485, 0.456, 0.406], [0.229, 0.224, 0.225])\n",
    "    ]),\n",
    "    'val': transforms.Compose([\n",
    "        transforms.Resize((image_size, image_size)),\n",
    "        transforms.ToTensor(),\n",
    "        transforms.Normalize([0.485, 0.456, 0.406], [0.229, 0.224, 0.225])\n",
    "    ]),\n",
    "    'test': transforms.Compose([\n",
    "        transforms.Resize((image_size, image_size)),\n",
    "        transforms.ToTensor(),\n",
    "        transforms.Normalize([0.485, 0.456, 0.406], [0.229, 0.224, 0.225])\n",
    "    ])\n",
    "}"
   ]
  },
  {
   "cell_type": "markdown",
   "id": "7e1b7215-c78b-4b02-9bba-f6721ab43b5b",
   "metadata": {},
   "source": [
    "# Pokemon Dataset\n"
   ]
  },
  {
   "cell_type": "code",
   "execution_count": 36,
   "id": "21d462e3-260d-4950-bdbd-bc5862dfabf7",
   "metadata": {},
   "outputs": [],
   "source": [
    "class PokemonDataset(Dataset):\n",
    "    def __init__(self, data, transform=None):\n",
    "        self.data = data\n",
    "        self.transform = transform\n",
    "        self.classes = sorted(list(set(item['type1'] for item in data))) # Extract classes\n",
    "        self.class_to_idx = {cls: idx for idx, cls in enumerate(self.classes)}\n",
    "\n",
    "    def __len__(self):\n",
    "        return len(self.data)\n",
    "\n",
    "    def __getitem__(self, idx):\n",
    "        item = self.data[idx]\n",
    "        image = Image.open(item['image_path']).convert('RGB')  # Ensure images are RGB\n",
    "        type1 = item['type1']\n",
    "        label = self.class_to_idx[type1]\n",
    "        if self.transform:\n",
    "            image = self.transform(image)\n",
    "        return image, torch.tensor(label)"
   ]
  },
  {
   "cell_type": "code",
   "execution_count": 37,
   "id": "7617298f-201d-4833-a0d0-efc40d594c19",
   "metadata": {},
   "outputs": [],
   "source": [
    "# Create instances of the Dataset\n",
    "image_datasets = {\n",
    "    'train': PokemonDataset(train_data, transform=data_transforms['train']),\n",
    "    'val': PokemonDataset(val_data, transform=data_transforms['val']),\n",
    "    'test': PokemonDataset(test_data, transform=data_transforms['test'])\n",
    "}"
   ]
  },
  {
   "cell_type": "code",
   "execution_count": 38,
   "id": "7cb79870-51e8-4c50-9b8c-64c186391a04",
   "metadata": {},
   "outputs": [],
   "source": [
    "import torch.multiprocessing\n",
    "torch.multiprocessing.set_start_method('spawn', force=True)"
   ]
  },
  {
   "cell_type": "code",
   "execution_count": 39,
   "id": "0fed00ec-151b-47dd-be10-06b47d049eb3",
   "metadata": {},
   "outputs": [],
   "source": [
    "# Create DataLoaders\n",
    "batch_size = 16  # Smaller batch size for CPU\n",
    "dataloaders = {\n",
    "    'train': DataLoader(image_datasets['train'], batch_size=batch_size, shuffle=True, num_workers=0), #num_workers=0 for CPU,\n",
    "    'val': DataLoader(image_datasets['val'], batch_size=batch_size, shuffle=False, num_workers=0 ),\n",
    "    'test': DataLoader(image_datasets['test'], batch_size=batch_size, shuffle=False, num_workers=0)\n",
    "}"
   ]
  },
  {
   "cell_type": "code",
   "execution_count": 40,
   "id": "7224279b-2bc9-4dc7-9e85-6acf547c74a9",
   "metadata": {},
   "outputs": [],
   "source": [
    "dataset_sizes = {x: len(image_datasets[x]) for x in ['train', 'val', 'test']}\n",
    "class_names = image_datasets['train'].classes  # Get class names from the training dataset"
   ]
  },
  {
   "cell_type": "code",
   "execution_count": 41,
   "id": "300e2371-3e93-488f-8c98-8ffdd081ac2a",
   "metadata": {},
   "outputs": [
    {
     "name": "stdout",
     "output_type": "stream",
     "text": [
      "Class names: ['Fire', 'Grass', 'Water']\n",
      "Dataset sizes: {'train': 132, 'val': 17, 'test': 17}\n",
      "Number Classes: 3\n"
     ]
    }
   ],
   "source": [
    "print(f\"Class names: {class_names}\")\n",
    "print(f\"Dataset sizes: {dataset_sizes}\")\n",
    "print(f\"Number Classes: {len(class_names)}\")"
   ]
  },
  {
   "cell_type": "markdown",
   "id": "52cc46a8-d546-4a8e-8879-a1b8b2ba5142",
   "metadata": {},
   "source": [
    "# Model Training"
   ]
  },
  {
   "cell_type": "code",
   "execution_count": 42,
   "id": "c6511a0f-1df5-49fd-b91c-09f15df7f325",
   "metadata": {},
   "outputs": [],
   "source": [
    "class SimpleCNN(nn.Module):\n",
    "    def __init__(self, num_classes):\n",
    "        super(SimpleCNN, self).__init__()\n",
    "        self.conv1 = nn.Conv2d(3, 16, kernel_size=3, stride=1, padding=1)\n",
    "        self.bn1 = nn.BatchNorm2d(16)  # Add batch normalization\n",
    "        self.pool = nn.MaxPool2d(kernel_size=2, stride=2)\n",
    "        self.conv2 = nn.Conv2d(16, 32, kernel_size=3, stride=1, padding=1)\n",
    "        self.bn2 = nn.BatchNorm2d(32)  # Add batch normalization\n",
    "        self.fc1 = nn.Linear(32 * 56 * 56, 128)  # Adjusted for 224x224 input\n",
    "        self.dropout = nn.Dropout(0.5)  # Add dropout\n",
    "        self.fc2 = nn.Linear(128, num_classes)\n",
    "\n",
    "    def forward(self, x):\n",
    "        x = self.pool(F.relu(self.bn1(self.conv1(x))))  # Batch norm and ReLU\n",
    "        x = self.pool(F.relu(self.bn2(self.conv2(x))))  # Batch norm and ReLU\n",
    "        x = x.view(-1, 32 * 56 * 56)  # Flatten\n",
    "        x = F.relu(self.fc1(x))\n",
    "        x = self.x = self.dropout(x)\n",
    "        x = self.fc2(x)\n",
    "        return x\n",
    "def get_resnet18(num_classes, pretrained=True):\n",
    "    model_ft = models.resnet18(weights=models.ResNet18_Weights.DEFAULT if pretrained else None)\n",
    "\n",
    "    # Freeze all layers initially\n",
    "    for param in model_ft.parameters():\n",
    "        param.requires_grad = False\n",
    "\n",
    "    # Get the number of input features for the last layer\n",
    "    num_ftrs = model_ft.fc.in_features\n",
    "\n",
    "    # Replace the last fully connected layer\n",
    "    model_ft.fc = nn.Sequential(\n",
    "        nn.Dropout(0.5),  # Add dropout layer\n",
    "        nn.Linear(num_ftrs, num_classes)\n",
    "    )\n",
    "\n",
    "    # Unfreeze the FC layer\n",
    "    for name, param in model_ft.named_parameters():\n",
    "        if \"fc\" in name:\n",
    "            param.requires_grad = True\n",
    "\n",
    "    return model_ft\n",
    "def get_vgg19(num_classes, pretrained=True):\n",
    "    model_ft = models.vgg19(weights=models.VGG19_Weights.DEFAULT if pretrained else None)\n",
    "\n",
    "    # Freeze all layers initially\n",
    "    for param in model_ft.parameters():\n",
    "        param.requires_grad = False\n",
    "\n",
    "    # Get the number of input features for the last layer\n",
    "    num_ftrs = model_ft.classifier[6].in_features\n",
    "\n",
    "    # Replace the classifier with a new one\n",
    "    model_ft.classifier[6] = nn.Sequential(\n",
    "        nn.Dropout(0.5),  # Add dropout layer\n",
    "        nn.Linear(num_ftrs, num_classes)\n",
    "    )\n",
    "\n",
    "    # Unfreeze ONLY the classifier\n",
    "    for name, param in model_ft.named_parameters():\n",
    "        if \"classifier\" in name:\n",
    "            param.requires_grad = True\n",
    "\n",
    "    return model_ft\n",
    "def get_squeezenet(num_classes, pretrained=True):\n",
    "    model_ft = models.squeezenet1_0(weights=models.SqueezeNet1_0_Weights.DEFAULT if pretrained else None)\n",
    "\n",
    "    # Freeze all layers initially\n",
    "    for param in model_ft.parameters():\n",
    "        param.requires_grad = False\n",
    "\n",
    "    # Modify the final convolutional layer\n",
    "    model_ft.classifier[1] = nn.Conv2d(512, num_classes, kernel_size=(1, 1), stride=(1, 1))\n",
    "    model_ft.num_classes = num_classes\n",
    "\n",
    "    # Unfreeze the last layer\n",
    "    for name, param in model_ft.named_parameters():\n",
    "        if \"classifier\" in name:\n",
    "            param.requires_grad = True\n",
    "\n",
    "    return model_ft"
   ]
  },
  {
   "cell_type": "code",
   "execution_count": 43,
   "id": "460cda51-ef85-4a9a-8f8f-c20b7bcba653",
   "metadata": {},
   "outputs": [],
   "source": [
    "import torchvision.models as models\n",
    "import torch.nn as nn\n",
    "\n",
    "def get_shufflenetv2(num_classes, pretrained=True):\n",
    "    model_ft = models.shufflenet_v2_x0_5(weights=models.ShuffleNet_V2_X0_5_Weights.DEFAULT if pretrained else None)\n",
    "\n",
    "    # Freeze all layers initially\n",
    "    for param in model_ft.parameters():\n",
    "        param.requires_grad = False\n",
    "\n",
    "    # Modify the final fully connected layer\n",
    "    num_ftrs = model_ft.fc.in_features\n",
    "    model_ft.fc = nn.Linear(num_ftrs, num_classes)\n",
    "\n",
    "    # Unfreeze the last layer\n",
    "    for name, param in model_ft.named_parameters():\n",
    "        if \"fc\" in name:\n",
    "            param.requires_grad = True\n",
    "\n",
    "    return model_ft"
   ]
  },
  {
   "cell_type": "code",
   "execution_count": 44,
   "id": "bb940e96-df40-4fbd-b8e3-9cb9a5fd41d3",
   "metadata": {},
   "outputs": [],
   "source": [
    "\n",
    "model_name = \"SqueezeNet\"  # Choose \"SimpleCNN\", \"ResNet18\", \"VGG19\", or \"SqueezeNet\"\n",
    "\n",
    "if model_name == \"SimpleCNN\":\n",
    "    model_ft = SimpleCNN(num_classes=len(class_names))\n",
    "elif model_name == \"ResNet18\":\n",
    "    model_ft = get_resnet18(num_classes=len(class_names), pretrained=True)\n",
    "elif model_name == \"VGG19\":\n",
    "    model_ft = get_vgg19(num_classes=len(class_names), pretrained=True)\n",
    "elif model_name == \"SqueezeNet\":\n",
    "    model_ft = get_squeezenet(num_classes=len(class_names), pretrained=True)\n",
    "elif model_name == \"ShuffleNetV2\":\n",
    "    model_ft = get_shufflenetv2(num_classes=len(class_names), pretrained=True)\n",
    "else:\n",
    "    raise ValueError(\"Invalid model name\")\n",
    "\n",
    "model_ft = model_ft.to(device)"
   ]
  },
  {
   "cell_type": "code",
   "execution_count": 45,
   "id": "4d9ea218-637d-4de9-aa63-e646e2763a60",
   "metadata": {},
   "outputs": [],
   "source": [
    "\n",
    "from sklearn.utils import class_weight\n",
    "\n",
    "# Calculate class weights\n",
    "class_weights = class_weight.compute_class_weight(\n",
    "    'balanced',\n",
    "    classes=np.unique(train_df['Type1']),\n",
    "    y=train_df['Type1'])\n",
    "\n",
    "class_weights = torch.tensor(class_weights, dtype=torch.float)\n",
    "class_weights = class_weights.to(device)  # Move to the same device as the model\n",
    "\n",
    "# Define loss function with class weights\n",
    "criterion = nn.CrossEntropyLoss(weight=class_weights)\n",
    "\n",
    "# Define loss function and optimizer\n",
    "#criterion = nn.CrossEntropyLoss() #OLD\n",
    "optimizer_ft = optim.Adam(filter(lambda p: p.requires_grad, model_ft.parameters()), lr=0.001)  # Only optimize unfrozen parameters\n",
    "\n",
    "# Learning rate scheduler (ReduceLROnPlateau)\n",
    "#exp_lr_scheduler = optim.lr_scheduler.StepLR(optimizer_ft, step_size=7, gamma=0.1) #OLD\n",
    "exp_lr_scheduler = optim.lr_scheduler.ReduceLROnPlateau(optimizer_ft, mode='min', factor=0.1, patience=3)\n"
   ]
  },
  {
   "cell_type": "code",
   "execution_count": 46,
   "id": "16894b9e-a674-4059-b7ba-d5e9b418303a",
   "metadata": {},
   "outputs": [],
   "source": [
    "# Image Transforms\n",
    "# Training loop\n",
    "def train_model(model, criterion, optimizer, scheduler, num_epochs=20):\n",
    "    history = {'loss': [], 'val_loss': [], 'accuracy': [], 'val_accuracy': []}\n",
    "    best_acc = 0.0\n",
    "    best_model_wts = model.state_dict()\n",
    "\n",
    "    # Early stopping parameters\n",
    "    patience = 5\n",
    "    counter = 0\n",
    "\n",
    "    for epoch in range(num_epochs):\n",
    "        print(f'Epoch {epoch}/{num_epochs - 1}')\n",
    "        print('-' * 10)\n",
    "\n",
    "        for phase in ['train', 'val']:\n",
    "            if phase == 'train':\n",
    "                model.train()\n",
    "            else:\n",
    "                model.eval()\n",
    "\n",
    "            running_loss = 0.0\n",
    "            running_corrects = 0\n",
    "\n",
    "            for inputs, labels in tqdm(dataloaders[phase], desc=f'{phase}'):\n",
    "                inputs = inputs.to(device)\n",
    "                labels = labels.to(device)\n",
    "\n",
    "                optimizer.zero_grad()\n",
    "\n",
    "                with torch.set_grad_enabled(phase == 'train'):\n",
    "                    outputs = model(inputs)\n",
    "                    _, preds = torch.max(outputs, 1)\n",
    "                    loss = criterion(outputs, labels)\n",
    "\n",
    "                    if phase == 'train':\n",
    "                        loss.backward()\n",
    "                        optimizer.step()\n",
    "\n",
    "                running_loss += loss.item() * inputs.size(0)\n",
    "                running_corrects += torch.sum(preds == labels.data)\n",
    "\n",
    "            if phase == 'val' and scheduler is not None: #CHANGED FOR REDUCELRONPLATEAU\n",
    "                scheduler.step(epoch_loss)\n",
    "\n",
    "            epoch_loss = running_loss / dataset_sizes[phase]\n",
    "            epoch_acc = running_corrects.double() / dataset_sizes[phase]\n",
    "\n",
    "            history.setdefault(f'{phase}_loss', []).append(epoch_loss)\n",
    "            history.setdefault(f'{phase}_accuracy', []).append(epoch_acc.item())\n",
    "\n",
    "            print(f'{phase} Loss: {epoch_loss:.4f} Acc: {epoch_acc:.4f}')\n",
    "\n",
    "            # Checkpointing\n",
    "            if phase == 'val' and epoch_acc > best_acc:\n",
    "                best_acc = epoch_acc\n",
    "                best_model_wts = model.state_dict()\n",
    "                torch.save(model.state_dict(), 'best_model.pth')  # Save best model weights\n",
    "                counter = 0  # Reset early stopping counter\n",
    "            elif phase == 'val':\n",
    "                counter += 1\n",
    "                if counter >= patience:\n",
    "                    print(\"Early stopping triggered\")\n",
    "                    model.load_state_dict(best_model_wts)  # Load best weights\n",
    "                    return model, history\n",
    "\n",
    "\n",
    "        print()\n",
    "\n",
    "    print(f'Best val Acc: {best_acc:4f}')\n",
    "\n",
    "    # Load best model weights\n",
    "    model.load_state_dict(best_model_wts)\n",
    "    return model, history\n"
   ]
  },
  {
   "cell_type": "markdown",
   "id": "6d7a5aaa-9e68-45f5-b16d-b01bb5bdfc18",
   "metadata": {},
   "source": [
    "# Train\n"
   ]
  },
  {
   "cell_type": "code",
   "execution_count": 47,
   "id": "e22b18de-058a-4942-a78b-841bcd7522bb",
   "metadata": {},
   "outputs": [
    {
     "name": "stdout",
     "output_type": "stream",
     "text": [
      "Epoch 0/19\n",
      "----------\n"
     ]
    },
    {
     "name": "stderr",
     "output_type": "stream",
     "text": [
      "train: 100%|█████████████████████████████████████████████████████████████████████████████| 9/9 [00:01<00:00,  7.87it/s]\n"
     ]
    },
    {
     "name": "stdout",
     "output_type": "stream",
     "text": [
      "train Loss: 1.3196 Acc: 0.4167\n"
     ]
    },
    {
     "name": "stderr",
     "output_type": "stream",
     "text": [
      "val: 100%|███████████████████████████████████████████████████████████████████████████████| 2/2 [00:00<00:00, 21.00it/s]\n"
     ]
    },
    {
     "name": "stdout",
     "output_type": "stream",
     "text": [
      "val Loss: 1.1358 Acc: 0.3529\n",
      "\n",
      "Epoch 1/19\n",
      "----------\n"
     ]
    },
    {
     "name": "stderr",
     "output_type": "stream",
     "text": [
      "train: 100%|█████████████████████████████████████████████████████████████████████████████| 9/9 [00:00<00:00, 16.25it/s]\n"
     ]
    },
    {
     "name": "stdout",
     "output_type": "stream",
     "text": [
      "train Loss: 1.2093 Acc: 0.3485\n"
     ]
    },
    {
     "name": "stderr",
     "output_type": "stream",
     "text": [
      "val: 100%|███████████████████████████████████████████████████████████████████████████████| 2/2 [00:00<00:00, 63.19it/s]\n"
     ]
    },
    {
     "name": "stdout",
     "output_type": "stream",
     "text": [
      "val Loss: 1.1375 Acc: 0.2353\n",
      "\n",
      "Epoch 2/19\n",
      "----------\n"
     ]
    },
    {
     "name": "stderr",
     "output_type": "stream",
     "text": [
      "train: 100%|█████████████████████████████████████████████████████████████████████████████| 9/9 [00:00<00:00, 16.61it/s]\n"
     ]
    },
    {
     "name": "stdout",
     "output_type": "stream",
     "text": [
      "train Loss: 1.1779 Acc: 0.2576\n"
     ]
    },
    {
     "name": "stderr",
     "output_type": "stream",
     "text": [
      "val: 100%|███████████████████████████████████████████████████████████████████████████████| 2/2 [00:00<00:00, 68.86it/s]\n"
     ]
    },
    {
     "name": "stdout",
     "output_type": "stream",
     "text": [
      "val Loss: 1.1385 Acc: 0.2353\n",
      "\n",
      "Epoch 3/19\n",
      "----------\n"
     ]
    },
    {
     "name": "stderr",
     "output_type": "stream",
     "text": [
      "train: 100%|█████████████████████████████████████████████████████████████████████████████| 9/9 [00:00<00:00, 16.48it/s]\n"
     ]
    },
    {
     "name": "stdout",
     "output_type": "stream",
     "text": [
      "train Loss: 1.1151 Acc: 0.3864\n"
     ]
    },
    {
     "name": "stderr",
     "output_type": "stream",
     "text": [
      "val: 100%|███████████████████████████████████████████████████████████████████████████████| 2/2 [00:00<00:00, 70.04it/s]\n"
     ]
    },
    {
     "name": "stdout",
     "output_type": "stream",
     "text": [
      "val Loss: 1.0835 Acc: 0.2941\n",
      "\n",
      "Epoch 4/19\n",
      "----------\n"
     ]
    },
    {
     "name": "stderr",
     "output_type": "stream",
     "text": [
      "train: 100%|█████████████████████████████████████████████████████████████████████████████| 9/9 [00:00<00:00, 15.26it/s]\n"
     ]
    },
    {
     "name": "stdout",
     "output_type": "stream",
     "text": [
      "train Loss: 1.1228 Acc: 0.3636\n"
     ]
    },
    {
     "name": "stderr",
     "output_type": "stream",
     "text": [
      "val: 100%|███████████████████████████████████████████████████████████████████████████████| 2/2 [00:00<00:00, 57.88it/s]\n"
     ]
    },
    {
     "name": "stdout",
     "output_type": "stream",
     "text": [
      "val Loss: 1.0536 Acc: 0.3529\n",
      "\n",
      "Epoch 5/19\n",
      "----------\n"
     ]
    },
    {
     "name": "stderr",
     "output_type": "stream",
     "text": [
      "train: 100%|█████████████████████████████████████████████████████████████████████████████| 9/9 [00:00<00:00, 14.61it/s]\n"
     ]
    },
    {
     "name": "stdout",
     "output_type": "stream",
     "text": [
      "train Loss: 1.1062 Acc: 0.4470\n"
     ]
    },
    {
     "name": "stderr",
     "output_type": "stream",
     "text": [
      "val: 100%|███████████████████████████████████████████████████████████████████████████████| 2/2 [00:00<00:00, 54.70it/s]\n"
     ]
    },
    {
     "name": "stdout",
     "output_type": "stream",
     "text": [
      "val Loss: 1.0118 Acc: 0.4118\n",
      "\n",
      "Epoch 6/19\n",
      "----------\n"
     ]
    },
    {
     "name": "stderr",
     "output_type": "stream",
     "text": [
      "train: 100%|█████████████████████████████████████████████████████████████████████████████| 9/9 [00:00<00:00, 15.00it/s]\n"
     ]
    },
    {
     "name": "stdout",
     "output_type": "stream",
     "text": [
      "train Loss: 1.0575 Acc: 0.4697\n"
     ]
    },
    {
     "name": "stderr",
     "output_type": "stream",
     "text": [
      "val: 100%|███████████████████████████████████████████████████████████████████████████████| 2/2 [00:00<00:00, 56.24it/s]\n"
     ]
    },
    {
     "name": "stdout",
     "output_type": "stream",
     "text": [
      "val Loss: 1.0021 Acc: 0.4118\n",
      "\n",
      "Epoch 7/19\n",
      "----------\n"
     ]
    },
    {
     "name": "stderr",
     "output_type": "stream",
     "text": [
      "train: 100%|█████████████████████████████████████████████████████████████████████████████| 9/9 [00:00<00:00, 14.83it/s]\n"
     ]
    },
    {
     "name": "stdout",
     "output_type": "stream",
     "text": [
      "train Loss: 1.0683 Acc: 0.5227\n"
     ]
    },
    {
     "name": "stderr",
     "output_type": "stream",
     "text": [
      "val: 100%|███████████████████████████████████████████████████████████████████████████████| 2/2 [00:00<00:00, 51.20it/s]\n"
     ]
    },
    {
     "name": "stdout",
     "output_type": "stream",
     "text": [
      "val Loss: 0.9867 Acc: 0.4118\n",
      "\n",
      "Epoch 8/19\n",
      "----------\n"
     ]
    },
    {
     "name": "stderr",
     "output_type": "stream",
     "text": [
      "train: 100%|█████████████████████████████████████████████████████████████████████████████| 9/9 [00:00<00:00, 14.83it/s]\n"
     ]
    },
    {
     "name": "stdout",
     "output_type": "stream",
     "text": [
      "train Loss: 1.0960 Acc: 0.4015\n"
     ]
    },
    {
     "name": "stderr",
     "output_type": "stream",
     "text": [
      "val: 100%|███████████████████████████████████████████████████████████████████████████████| 2/2 [00:00<00:00, 49.28it/s]\n"
     ]
    },
    {
     "name": "stdout",
     "output_type": "stream",
     "text": [
      "val Loss: 0.9648 Acc: 0.5294\n",
      "\n",
      "Epoch 9/19\n",
      "----------\n"
     ]
    },
    {
     "name": "stderr",
     "output_type": "stream",
     "text": [
      "train: 100%|█████████████████████████████████████████████████████████████████████████████| 9/9 [00:00<00:00, 15.06it/s]\n"
     ]
    },
    {
     "name": "stdout",
     "output_type": "stream",
     "text": [
      "train Loss: 1.1124 Acc: 0.3864\n"
     ]
    },
    {
     "name": "stderr",
     "output_type": "stream",
     "text": [
      "val: 100%|███████████████████████████████████████████████████████████████████████████████| 2/2 [00:00<00:00, 56.81it/s]\n"
     ]
    },
    {
     "name": "stdout",
     "output_type": "stream",
     "text": [
      "val Loss: 1.0115 Acc: 0.5294\n",
      "\n",
      "Epoch 10/19\n",
      "----------\n"
     ]
    },
    {
     "name": "stderr",
     "output_type": "stream",
     "text": [
      "train: 100%|█████████████████████████████████████████████████████████████████████████████| 9/9 [00:00<00:00, 14.88it/s]\n"
     ]
    },
    {
     "name": "stdout",
     "output_type": "stream",
     "text": [
      "train Loss: 1.0480 Acc: 0.4545\n"
     ]
    },
    {
     "name": "stderr",
     "output_type": "stream",
     "text": [
      "val: 100%|███████████████████████████████████████████████████████████████████████████████| 2/2 [00:00<00:00, 53.21it/s]\n"
     ]
    },
    {
     "name": "stdout",
     "output_type": "stream",
     "text": [
      "val Loss: 1.0120 Acc: 0.5294\n",
      "\n",
      "Epoch 11/19\n",
      "----------\n"
     ]
    },
    {
     "name": "stderr",
     "output_type": "stream",
     "text": [
      "train: 100%|█████████████████████████████████████████████████████████████████████████████| 9/9 [00:00<00:00, 14.67it/s]\n"
     ]
    },
    {
     "name": "stdout",
     "output_type": "stream",
     "text": [
      "train Loss: 1.0240 Acc: 0.4318\n"
     ]
    },
    {
     "name": "stderr",
     "output_type": "stream",
     "text": [
      "val: 100%|███████████████████████████████████████████████████████████████████████████████| 2/2 [00:00<00:00, 51.54it/s]\n"
     ]
    },
    {
     "name": "stdout",
     "output_type": "stream",
     "text": [
      "val Loss: 1.0170 Acc: 0.5294\n",
      "\n",
      "Epoch 12/19\n",
      "----------\n"
     ]
    },
    {
     "name": "stderr",
     "output_type": "stream",
     "text": [
      "train: 100%|█████████████████████████████████████████████████████████████████████████████| 9/9 [00:00<00:00, 14.87it/s]\n"
     ]
    },
    {
     "name": "stdout",
     "output_type": "stream",
     "text": [
      "train Loss: 1.0638 Acc: 0.4470\n"
     ]
    },
    {
     "name": "stderr",
     "output_type": "stream",
     "text": [
      "val: 100%|███████████████████████████████████████████████████████████████████████████████| 2/2 [00:00<00:00, 49.91it/s]\n"
     ]
    },
    {
     "name": "stdout",
     "output_type": "stream",
     "text": [
      "val Loss: 0.9784 Acc: 0.4706\n",
      "\n",
      "Epoch 13/19\n",
      "----------\n"
     ]
    },
    {
     "name": "stderr",
     "output_type": "stream",
     "text": [
      "train: 100%|█████████████████████████████████████████████████████████████████████████████| 9/9 [00:00<00:00, 16.07it/s]\n"
     ]
    },
    {
     "name": "stdout",
     "output_type": "stream",
     "text": [
      "train Loss: 1.0372 Acc: 0.4318\n"
     ]
    },
    {
     "name": "stderr",
     "output_type": "stream",
     "text": [
      "val: 100%|███████████████████████████████████████████████████████████████████████████████| 2/2 [00:00<00:00, 52.54it/s]"
     ]
    },
    {
     "name": "stdout",
     "output_type": "stream",
     "text": [
      "val Loss: 0.9769 Acc: 0.4706\n",
      "Early stopping triggered\n"
     ]
    },
    {
     "name": "stderr",
     "output_type": "stream",
     "text": [
      "\n"
     ]
    }
   ],
   "source": [
    "\n",
    "model_ft, history = train_model(model_ft, criterion, optimizer_ft, exp_lr_scheduler, num_epochs=20)\n",
    "\n"
   ]
  },
  {
   "cell_type": "code",
   "execution_count": 48,
   "id": "77994d10-a493-4e10-9b29-97c82359f989",
   "metadata": {},
   "outputs": [
    {
     "data": {
      "image/png": "[encoded data removed]",
      "text/plain": [
       "<Figure size 1200x400 with 2 Axes>"
      ]
     },
     "metadata": {},
     "output_type": "display_data"
    }
   ],
   "source": [
    "\n",
    "# print training on the TRAINING HISTORY set:\n",
    "# Plot training history\n",
    "plt.figure(figsize=(12, 4))\n",
    "\n",
    "plt.subplot(1, 2, 1)\n",
    "plt.plot(history['train_loss'], label='Train Loss')\n",
    "plt.plot(history['val_loss'], label='Validation Loss')\n",
    "plt.xlabel('Epoch')\n",
    "plt.ylabel('Loss')\n",
    "\n",
    "plt.legend()\n",
    "plt.title('Loss vs. Epoch')\n",
    "\n",
    "plt.subplot(1, 2, 2)\n",
    "plt.plot(history['train_accuracy'], label='Train Accuracy')\n",
    "plt.plot(history['val_accuracy'], label='Validation Accuracy')\n",
    "plt.xlabel('Epoch')\n",
    "plt.ylabel('Accuracy')\n",
    "plt.legend()\n",
    "plt.title('Accuracy vs. Epoch')\n",
    "\n",
    "plt.tight_layout()\n",
    "plt.show()"
   ]
  },
  {
   "cell_type": "code",
   "execution_count": 50,
   "id": "ddc3bee0-435f-4ee3-aabd-dc3fe84817e3",
   "metadata": {},
   "outputs": [
    {
     "name": "stdout",
     "output_type": "stream",
     "text": [
      "Test Accuracy: 0.8235\n"
     ]
    }
   ],
   "source": [
    "# Evaluate on the TEST HISTORY: \n",
    "def evaluate_model(model, dataloader):\n",
    "    model.eval()  # Set the model to evaluation mode\n",
    "    running_corrects = 0\n",
    "    total_samples = 0\n",
    "\n",
    "    with torch.no_grad():  # Disable gradient calculation during evaluation\n",
    "        for inputs, labels in dataloader:\n",
    "            inputs = inputs.to(device)\n",
    "            labels = labels.to(device)\n",
    "\n",
    "            outputs = model(inputs)\n",
    "            _, preds = torch.max(outputs, 1)\n",
    "\n",
    "            running_corrects += torch.sum(preds == labels.data)\n",
    "            total_samples += inputs.size(0)\n",
    "\n",
    "    accuracy = running_corrects.double() / total_samples\n",
    "    print(f'Test Accuracy: {accuracy:.4f}')\n",
    "    return accuracy\n",
    "\n",
    "test_accuracy = evaluate_model(model_ft, dataloaders['test'])\n"
   ]
  },
  {
   "cell_type": "code",
   "execution_count": null,
   "id": "490f5de8-8cf9-4b74-9aad-44caa0d100e4",
   "metadata": {},
   "outputs": [],
   "source": []
  },
  {
   "cell_type": "code",
   "execution_count": null,
   "id": "f2ed2e30-d395-4eba-adf5-6395109ea78f",
   "metadata": {},
   "outputs": [],
   "source": []
  }
 ],
 "metadata": {
  "kernelspec": {
   "display_name": "Python 3 (ipykernel)",
   "language": "python",
   "name": "python3"
  },
  "language_info": {
   "codemirror_mode": {
    "name": "ipython",
    "version": 3
   },
   "file_extension": ".py",
   "mimetype": "text/x-python",
   "name": "python",
   "nbconvert_exporter": "python",
   "pygments_lexer": "ipython3",
   "version": "3.12.2"
  }
 },
 "nbformat": 4,
 "nbformat_minor": 5
}
